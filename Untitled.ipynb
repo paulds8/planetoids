{
 "cells": [
  {
   "cell_type": "code",
   "execution_count": 37,
   "metadata": {},
   "outputs": [
    {
     "data": {
      "image/png": "[encoded data removed]",
      "text/plain": [
       "<PIL.Image.Image image mode=L size=300x300 at 0x240CDA33B38>"
      ]
     },
     "execution_count": 37,
     "metadata": {},
     "output_type": "execute_result"
    }
   ],
   "source": [
    "import numpy\n",
    "import cv2\n",
    "import matplotlib.pyplot as plt\n",
    "from PIL import Image\n",
    "\n",
    "def add_salt_and_pepper(gb, prob):\n",
    "    '''Adds \"Salt & Pepper\" noise to an image.\n",
    "    gb: should be one-channel image with pixels in [0, 1] range\n",
    "    prob: probability (threshold) that controls level of noise'''\n",
    "\n",
    "    rnd = np.random.rand(gb.shape[0], gb.shape[1])\n",
    "    noisy = gb.copy()\n",
    "    noisy[rnd < prob] = 0\n",
    "    noisy[rnd > 1 - prob] = 255\n",
    "    return noisy\n",
    "\n",
    "image_array = np.zeros((300,300),dtype=np.uint8)\n",
    "\n",
    "image_array = add_salt_and_pepper(image_array, 0.01)\n",
    "\n",
    "image = Image.fromarray(image_array)\n",
    "image"
   ]
  }
 ],
 "metadata": {
  "kernelspec": {
   "display_name": "Python 3",
   "language": "python",
   "name": "python3"
  },
  "language_info": {
   "codemirror_mode": {
    "name": "ipython",
    "version": 3
   },
   "file_extension": ".py",
   "mimetype": "text/x-python",
   "name": "python",
   "nbconvert_exporter": "python",
   "pygments_lexer": "ipython3",
   "version": "3.7.3"
  }
 },
 "nbformat": 4,
 "nbformat_minor": 2
}
