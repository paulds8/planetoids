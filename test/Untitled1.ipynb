{
 "cells": [
  {
   "cell_type": "code",
   "execution_count": 1,
   "metadata": {},
   "outputs": [],
   "source": [
    "import sys\n",
    "sys.path.append(\"..\")"
   ]
  },
  {
   "cell_type": "code",
   "execution_count": 2,
   "metadata": {},
   "outputs": [
    {
     "name": "stderr",
     "output_type": "stream",
     "text": [
      "C:\\ProgramData\\Anaconda3\\lib\\site-packages\\tqdm\\autonotebook\\__init__.py:18: TqdmExperimentalWarning:\n",
      "\n",
      "Using `tqdm.autonotebook.tqdm` in notebook mode. Use `tqdm.tqdm` instead to force console mode (e.g. in jupyter console)\n",
      "\n"
     ]
    }
   ],
   "source": [
    "import pandas as pd\n",
    "import numpy as np\n",
    "from sklearn.datasets import make_blobs\n",
    "from planetoids import planetoids as pt\n",
    "\n",
    "X, y = make_blobs(n_samples=1000, n_features=2, random_state=42)\n",
    "data = pd.DataFrame(X)\n",
    "data['Cluster'] = y"
   ]
  },
  {
   "cell_type": "code",
   "execution_count": 74,
   "metadata": {},
   "outputs": [],
   "source": [
    "data = pd.read_csv(\"test_data.csv\")\n",
    "planet = pt.Planetoid(data, \"0\", \"1\", \"Cluster\", random_state=42)"
   ]
  },
  {
   "cell_type": "code",
   "execution_count": 105,
   "metadata": {},
   "outputs": [
    {
     "data": {
      "text/plain": [
       "[array([[ 7.58409848e+01, -1.41765516e+01],\n",
       "        [ 7.58409421e+01, -1.41763369e+01],\n",
       "        [ 7.56862596e+01, -1.31692159e+01],\n",
       "        [ 7.56862343e+01, -1.31689701e+01],\n",
       "        [ 7.56862334e+01, -1.31687231e+01],\n",
       "        [ 7.57480122e+01, -1.18258479e+01],\n",
       "        [ 7.57480830e+01, -1.18252089e+01],\n",
       "        [ 7.61631297e+01, -9.47459437e+00],\n",
       "        [ 7.61631619e+01, -9.47440126e+00],\n",
       "        [ 7.64783066e+01, -7.46004174e+00],\n",
       "        [ 7.64784261e+01, -7.45861161e+00],\n",
       "        [ 7.64978243e+01, -5.78006830e+00],\n",
       "        [ 7.64978249e+01, -5.77998199e+00],\n",
       "        [ 7.65037185e+01, -3.76510620e+00],\n",
       "        [ 7.65037315e+01, -3.76485940e+00],\n",
       "        [ 7.65037688e+01, -3.76461510e+00],\n",
       "        [ 7.67093137e+01, -2.75751296e+00],\n",
       "        [ 7.67093736e+01, -2.75727813e+00],\n",
       "        [ 7.67094561e+01, -2.75705023e+00],\n",
       "        [ 7.71303712e+01, -1.74991746e+00],\n",
       "        [ 7.71304764e+01, -1.74969685e+00],\n",
       "        [ 7.71306027e+01, -1.74948761e+00],\n",
       "        [ 7.78079833e+01, -7.42284227e-01],\n",
       "        [ 7.78081091e+01, -7.42113325e-01],\n",
       "        [ 7.78082490e+01, -7.41953736e-01],\n",
       "        [ 7.87700223e+01,  2.65372379e-01],\n",
       "        [ 7.87702256e+01,  2.65573505e-01],\n",
       "        [ 8.12861090e+01,  2.61551158e+00],\n",
       "        [ 8.12867797e+01,  2.61620141e+00],\n",
       "        [ 8.12873810e+01,  2.61695251e+00],\n",
       "        [ 8.12879074e+01,  2.61775793e+00],\n",
       "        [ 8.17098278e+01,  3.33665748e+00],\n",
       "        [ 8.17102302e+01,  3.33741586e+00],\n",
       "        [ 8.17105660e+01,  3.33820595e+00],\n",
       "        [ 8.17108329e+01,  3.33902194e+00],\n",
       "        [ 8.18843242e+01,  3.95841865e+00],\n",
       "        [ 8.18845540e+01,  3.95944322e+00],\n",
       "        [ 8.18846750e+01,  3.96048624e+00],\n",
       "        [ 8.18846860e+01,  3.96153620e+00],\n",
       "        [ 8.18565593e+01,  4.63002539e+00],\n",
       "        [ 8.18564545e+01,  4.63110808e+00],\n",
       "        [ 8.18562328e+01,  4.63217298e+00],\n",
       "        [ 8.18558967e+01,  4.63320750e+00],\n",
       "        [ 8.15973788e+01,  5.30263407e+00],\n",
       "        [ 8.15970558e+01,  5.30337897e+00],\n",
       "        [ 8.15966734e+01,  5.30409521e+00],\n",
       "        [ 8.02166645e+01,  7.65420766e+00],\n",
       "        [ 8.02165507e+01,  7.65442557e+00],\n",
       "        [ 8.02165058e+01,  7.65466728e+00],\n",
       "        [ 8.01258551e+01,  8.32587612e+00],\n",
       "        [ 8.01258336e+01,  8.32614344e+00],\n",
       "        [ 8.01258699e+01,  8.32640915e+00],\n",
       "        [ 8.02548716e+01,  8.99765331e+00],\n",
       "        [ 8.02549213e+01,  8.99786281e+00],\n",
       "        [ 8.02550233e+01,  8.99805247e+00],\n",
       "        [ 8.06543612e+01,  9.66936973e+00],\n",
       "        [ 8.06545014e+01,  9.66958023e+00],\n",
       "        [ 8.06546813e+01,  9.66975803e+00],\n",
       "        [ 8.12655758e+01,  1.02150972e+01],\n",
       "        [ 8.12657397e+01,  1.02152314e+01],\n",
       "        [ 8.12659239e+01,  1.02153359e+01],\n",
       "        [ 8.21669956e+01,  1.06770468e+01],\n",
       "        [ 8.21672454e+01,  1.06771579e+01],\n",
       "        [ 8.21675059e+01,  1.06772410e+01],\n",
       "        [ 8.30444766e+01,  1.09047825e+01],\n",
       "        [ 8.30447324e+01,  1.09048347e+01],\n",
       "        [ 8.30449922e+01,  1.09048599e+01],\n",
       "        [ 8.43786797e+01,  1.09638700e+01],\n",
       "        [ 8.43789758e+01,  1.09638655e+01],\n",
       "        [ 8.43792693e+01,  1.09638258e+01],\n",
       "        [ 8.57129852e+01,  1.07019499e+01],\n",
       "        [ 8.57132206e+01,  1.07018917e+01],\n",
       "        [ 8.57134491e+01,  1.07018109e+01],\n",
       "        [ 8.66025361e+01,  1.03379247e+01],\n",
       "        [ 8.66027182e+01,  1.03378414e+01],\n",
       "        [ 8.66028931e+01,  1.03377438e+01],\n",
       "        [ 8.83813513e+01,  9.24960815e+00],\n",
       "        [ 8.83821019e+01,  9.24919210e+00],\n",
       "        [ 8.95567744e+01,  8.66245473e+00],\n",
       "        [ 8.95576927e+01,  8.66205224e+00],\n",
       "        [ 8.95586467e+01,  8.66174372e+00],\n",
       "        [ 9.06046095e+01,  8.38054908e+00],\n",
       "        [ 9.06054691e+01,  8.38035813e+00],\n",
       "        [ 9.06063422e+01,  8.38024354e+00],\n",
       "        [ 9.19388906e+01,  8.26474843e+00],\n",
       "        [ 9.19397093e+01,  8.26471118e+00],\n",
       "        [ 9.19405284e+01,  8.26474111e+00],\n",
       "        [ 9.32730432e+01,  8.36823747e+00],\n",
       "        [ 9.32739490e+01,  8.36834961e+00],\n",
       "        [ 9.32748408e+01,  8.36854387e+00],\n",
       "        [ 9.46073229e+01,  8.72319287e+00],\n",
       "        [ 9.46081886e+01,  8.72346595e+00],\n",
       "        [ 9.46090261e+01,  8.72381641e+00],\n",
       "        [ 9.63871585e+01,  9.56473471e+00],\n",
       "        [ 9.77211345e+01,  1.01811597e+01],\n",
       "        [ 9.77217731e+01,  1.01814033e+01],\n",
       "        [ 9.90555060e+01,  1.05879869e+01],\n",
       "        [ 9.90556939e+01,  1.05880363e+01],\n",
       "        [ 9.90558852e+01,  1.05880709e+01],\n",
       "        [ 1.00389748e+02,  1.07761706e+01],\n",
       "        [ 1.00389940e+02,  1.07761901e+01],\n",
       "        [ 1.00390132e+02,  1.07761948e+01],\n",
       "        [ 1.02168791e+02,  1.07508979e+01],\n",
       "        [ 1.02169079e+02,  1.07508855e+01],\n",
       "        [ 1.05725560e+02,  1.04947272e+01],\n",
       "        [ 1.05726467e+02,  1.04947031e+01],\n",
       "        [ 1.05727373e+02,  1.04947614e+01],\n",
       "        [ 1.05728269e+02,  1.04949015e+01],\n",
       "        [ 1.06624386e+02,  1.06769466e+01],\n",
       "        [ 1.06625475e+02,  1.06772328e+01],\n",
       "        [ 1.06626526e+02,  1.06776397e+01],\n",
       "        [ 1.07505000e+02,  1.10761589e+01],\n",
       "        [ 1.07505896e+02,  1.10766217e+01],\n",
       "        [ 1.07506742e+02,  1.10771725e+01],\n",
       "        [ 1.08840135e+02,  1.20449023e+01],\n",
       "        [ 1.08840204e+02,  1.20449517e+01],\n",
       "        [ 1.10244456e+02,  1.30280679e+01],\n",
       "        [ 1.10244650e+02,  1.30281909e+01],\n",
       "        [ 1.10244855e+02,  1.30282955e+01],\n",
       "        [ 1.11508436e+02,  1.36021944e+01],\n",
       "        [ 1.11508667e+02,  1.36022855e+01],\n",
       "        [ 1.11508905e+02,  1.36023533e+01],\n",
       "        [ 1.12842682e+02,  1.39111491e+01],\n",
       "        [ 1.12842911e+02,  1.39111910e+01],\n",
       "        [ 1.12843143e+02,  1.39112113e+01],\n",
       "        [ 1.14176945e+02,  1.39652154e+01],\n",
       "        [ 1.14177156e+02,  1.39652150e+01],\n",
       "        [ 1.14177366e+02,  1.39651969e+01],\n",
       "        [ 1.15511209e+02,  1.37930244e+01],\n",
       "        [ 1.15511402e+02,  1.37929919e+01],\n",
       "        [ 1.15511591e+02,  1.37929444e+01],\n",
       "        [ 1.16975932e+02,  1.33641426e+01],\n",
       "        [ 1.16976476e+02,  1.33639486e+01],\n",
       "        [ 1.19069232e+02,  1.24778447e+01],\n",
       "        [ 1.19069559e+02,  1.24777130e+01],\n",
       "        [ 1.20847794e+02,  1.17976687e+01],\n",
       "        [ 1.20849011e+02,  1.17972903e+01],\n",
       "        [ 1.22626837e+02,  1.13664055e+01],\n",
       "        [ 1.22627947e+02,  1.13662021e+01],\n",
       "        [ 1.24851101e+02,  1.10869632e+01],\n",
       "        [ 1.24851161e+02,  1.10869560e+01],\n",
       "        [ 1.29298379e+02,  1.05553050e+01],\n",
       "        [ 1.29298858e+02,  1.05552238e+01],\n",
       "        [ 1.32411743e+02,  9.87086643e+00],\n",
       "        [ 1.32411982e+02,  9.87080752e+00],\n",
       "        [ 1.36414265e+02,  8.78137318e+00],\n",
       "        [ 1.36414926e+02,  8.78114267e+00],\n",
       "        [ 1.37748597e+02,  8.20791392e+00],\n",
       "        [ 1.37748843e+02,  8.20779164e+00],\n",
       "        [ 1.37749074e+02,  8.20764299e+00],\n",
       "        [ 1.38512873e+02,  7.65455463e+00],\n",
       "        [ 1.38513049e+02,  7.65441433e+00],\n",
       "        [ 1.38513181e+02,  7.65423178e+00],\n",
       "        [ 1.38953954e+02,  6.98289784e+00],\n",
       "        [ 1.38954073e+02,  6.98269531e+00],\n",
       "        [ 1.38954109e+02,  6.98246286e+00],\n",
       "        [ 1.39025366e+02,  6.31122951e+00],\n",
       "        [ 1.39025379e+02,  6.31097812e+00],\n",
       "        [ 1.39025317e+02,  6.31073416e+00],\n",
       "        [ 1.38817177e+02,  5.63949205e+00],\n",
       "        [ 1.38817092e+02,  5.63925992e+00],\n",
       "        [ 1.38816963e+02,  5.63904913e+00],\n",
       "        [ 1.38129313e+02,  4.63185628e+00],\n",
       "        [ 1.38129044e+02,  4.63149783e+00],\n",
       "        [ 1.36747438e+02,  2.95328531e+00],\n",
       "        [ 1.36746740e+02,  2.95232698e+00],\n",
       "        [ 1.36746160e+02,  2.95129279e+00],\n",
       "        [ 1.36415495e+02,  2.26940689e+00],\n",
       "        [ 1.36415102e+02,  2.26847935e+00],\n",
       "        [ 1.36414804e+02,  2.26751693e+00],\n",
       "        [ 1.36414604e+02,  2.26652940e+00],\n",
       "        [ 1.36414505e+02,  2.26552679e+00],\n",
       "        [ 1.36382846e+02,  1.61111342e+00],\n",
       "        [ 1.36382852e+02,  1.61003337e+00],\n",
       "        [ 1.36382975e+02,  1.60896029e+00],\n",
       "        [ 1.36383212e+02,  1.60790669e+00],\n",
       "        [ 1.36383562e+02,  1.60688485e+00],\n",
       "        [ 1.36517788e+02,  1.27459056e+00],\n",
       "        [ 1.36518251e+02,  1.27360316e+00],\n",
       "        [ 1.36518819e+02,  1.27267205e+00],\n",
       "        [ 1.36519485e+02,  1.27180830e+00],\n",
       "        [ 1.36858258e+02,  8.78644445e-01],\n",
       "        [ 1.36859026e+02,  8.77846900e-01],\n",
       "        [ 1.36859877e+02,  8.77139169e-01],\n",
       "        [ 1.36860802e+02,  8.76529930e-01],\n",
       "        [ 1.37747956e+02,  3.60047210e-01],\n",
       "        [ 1.37748872e+02,  3.59575238e-01],\n",
       "        [ 1.37749832e+02,  3.59200086e-01],\n",
       "        [ 1.38637826e+02,  6.39574424e-02],\n",
       "        [ 1.38638887e+02,  6.36683233e-02],\n",
       "        [ 1.40862072e+02, -4.12344539e-01],\n",
       "        [ 1.43530318e+02, -9.95522305e-01],\n",
       "        [ 1.43530847e+02, -9.95668797e-01],\n",
       "        [ 1.45767591e+02, -1.74959316e+00],\n",
       "        [ 1.45768159e+02, -1.74982397e+00],\n",
       "        [ 1.47533033e+02, -2.59751707e+00],\n",
       "        [ 1.47533601e+02, -2.59783716e+00],\n",
       "        [ 1.48867268e+02, -3.46861065e+00],\n",
       "        [ 1.48867847e+02, -3.46905211e+00],\n",
       "        [ 1.49961145e+02, -4.43643586e+00],\n",
       "        [ 1.49961301e+02, -4.43658704e+00],\n",
       "        [ 1.49961444e+02, -4.43675128e+00],\n",
       "        [ 1.50762500e+02, -5.44399726e+00],\n",
       "        [ 1.50762625e+02, -5.44416900e+00],\n",
       "        [ 1.50762735e+02, -5.44435076e+00],\n",
       "        [ 1.51314918e+02, -6.45156842e+00],\n",
       "        [ 1.51315008e+02, -6.45175088e+00],\n",
       "        [ 1.51315083e+02, -6.45194011e+00],\n",
       "        [ 1.51905522e+02, -8.13100549e+00],\n",
       "        [ 1.51905555e+02, -8.13110145e+00],\n",
       "        [ 1.52678986e+02, -1.04817844e+01],\n",
       "        [ 1.52679200e+02, -1.04823718e+01],\n",
       "        [ 1.53887660e+02, -1.35045818e+01],\n",
       "        [ 1.53887745e+02, -1.35048344e+01],\n",
       "        [ 1.53887746e+02, -1.35051011e+01],\n",
       "        [ 1.53853738e+02, -1.41762963e+01],\n",
       "        [ 1.53853712e+02, -1.41765509e+01],\n",
       "        [ 1.53853609e+02, -1.41767854e+01],\n",
       "        [ 1.53517742e+02, -1.48480472e+01],\n",
       "        [ 1.53517616e+02, -1.48482684e+01],\n",
       "        [ 1.53517430e+02, -1.48484412e+01],\n",
       "        [ 1.52870498e+02, -1.53894716e+01],\n",
       "        [ 1.52870308e+02, -1.53896151e+01],\n",
       "        [ 1.52870095e+02, -1.53897200e+01],\n",
       "        [ 1.51981028e+02, -1.57759531e+01],\n",
       "        [ 1.51980813e+02, -1.57760349e+01],\n",
       "        [ 1.51980592e+02, -1.57760966e+01],\n",
       "        [ 1.50646598e+02, -1.60817788e+01],\n",
       "        [ 1.48648731e+02, -1.65272994e+01],\n",
       "        [ 1.48647898e+02, -1.65275231e+01],\n",
       "        [ 1.48647088e+02, -1.65278176e+01],\n",
       "        [ 1.48646307e+02, -1.65281807e+01],\n",
       "        [ 1.47979692e+02, -1.68735706e+01],\n",
       "        [ 1.47978912e+02, -1.68740201e+01],\n",
       "        [ 1.47978177e+02, -1.68745378e+01],\n",
       "        [ 1.47977490e+02, -1.68751196e+01],\n",
       "        [ 1.47976859e+02, -1.68757608e+01],\n",
       "        [ 1.47384693e+02, -1.75338742e+01],\n",
       "        [ 1.47384145e+02, -1.75345377e+01],\n",
       "        [ 1.47383657e+02, -1.75352456e+01],\n",
       "        [ 1.47383232e+02, -1.75359930e+01],\n",
       "        [ 1.47382872e+02, -1.75367741e+01],\n",
       "        [ 1.46971140e+02, -1.85424302e+01],\n",
       "        [ 1.46970900e+02, -1.85430770e+01],\n",
       "        [ 1.46304104e+02, -2.05576890e+01],\n",
       "        [ 1.46304018e+02, -2.05579118e+01],\n",
       "        [ 1.46303911e+02, -2.05581255e+01],\n",
       "        [ 1.45550349e+02, -2.19011880e+01],\n",
       "        [ 1.45550141e+02, -2.19015260e+01],\n",
       "        [ 1.43523733e+02, -2.49233088e+01],\n",
       "        [ 1.43523235e+02, -2.49241337e+01],\n",
       "        [ 1.43522820e+02, -2.49250027e+01],\n",
       "        [ 1.42641113e+02, -2.70221341e+01],\n",
       "        [ 1.42641064e+02, -2.70222468e+01],\n",
       "        [ 1.41923305e+02, -2.86184091e+01],\n",
       "        [ 1.41923220e+02, -2.86185809e+01],\n",
       "        [ 1.41923122e+02, -2.86187457e+01],\n",
       "        [ 1.41050020e+02, -2.99618298e+01],\n",
       "        [ 1.41049881e+02, -2.99620221e+01],\n",
       "        [ 1.41049725e+02, -2.99622004e+01],\n",
       "        [ 1.39972735e+02, -3.10805087e+01],\n",
       "        [ 1.39972590e+02, -3.10806476e+01],\n",
       "        [ 1.39972434e+02, -3.10807745e+01],\n",
       "        [ 1.39083386e+02, -3.17471279e+01],\n",
       "        [ 1.39082780e+02, -3.17475171e+01],\n",
       "        [ 1.37749017e+02, -3.24741676e+01],\n",
       "        [ 1.37748847e+02, -3.24742516e+01],\n",
       "        [ 1.37748672e+02, -3.24743226e+01],\n",
       "        [ 1.35970165e+02, -3.31184615e+01],\n",
       "        [ 1.35969532e+02, -3.31186447e+01],\n",
       "        [ 1.33746357e+02, -3.36048651e+01],\n",
       "        [ 1.33745859e+02, -3.36049480e+01],\n",
       "        [ 1.31077918e+02, -3.39108161e+01],\n",
       "        [ 1.31077313e+02, -3.39108485e+01],\n",
       "        [ 1.29298832e+02, -3.38979185e+01],\n",
       "        [ 1.29298622e+02, -3.38979081e+01],\n",
       "        [ 1.29298416e+02, -3.38978623e+01],\n",
       "        [ 1.28395616e+02, -3.36565252e+01],\n",
       "        [ 1.28395443e+02, -3.36564756e+01],\n",
       "        [ 1.25297536e+02, -3.27076005e+01],\n",
       "        [ 1.25296426e+02, -3.27073288e+01],\n",
       "        [ 1.25295293e+02, -3.27071855e+01],\n",
       "        [ 1.25294150e+02, -3.27071724e+01],\n",
       "        [ 1.24407351e+02, -3.27477365e+01],\n",
       "        [ 1.24406389e+02, -3.27478273e+01],\n",
       "        [ 1.24405440e+02, -3.27480105e+01],\n",
       "        [ 1.23434998e+02, -3.29845272e+01],\n",
       "        [ 1.23433982e+02, -3.29848330e+01],\n",
       "        [ 1.23433003e+02, -3.29852448e+01],\n",
       "        [ 1.22048957e+02, -3.36563778e+01],\n",
       "        [ 1.22048453e+02, -3.36566405e+01],\n",
       "        [ 1.19959092e+02, -3.48209537e+01],\n",
       "        [ 1.19958684e+02, -3.48211575e+01],\n",
       "        [ 1.13732681e+02, -3.75792645e+01],\n",
       "        [ 1.13732121e+02, -3.75794736e+01],\n",
       "        [ 1.12285026e+02, -3.80226376e+01],\n",
       "        [ 1.12284830e+02, -3.80226890e+01],\n",
       "        [ 1.12284630e+02, -3.80227244e+01],\n",
       "        [ 1.11064115e+02, -3.81880460e+01],\n",
       "        [ 1.11063913e+02, -3.81880650e+01],\n",
       "        [ 1.11063711e+02, -3.81880676e+01],\n",
       "        [ 1.09729829e+02, -3.81509123e+01],\n",
       "        [ 1.09729506e+02, -3.81508928e+01],\n",
       "        [ 1.04393075e+02, -3.76551706e+01],\n",
       "        [ 1.04392283e+02, -3.76551286e+01],\n",
       "        [ 1.00390222e+02, -3.76018081e+01],\n",
       "        [ 1.00389941e+02, -3.76017884e+01],\n",
       "        [ 1.00389664e+02, -3.76017370e+01],\n",
       "        [ 9.90559612e+01, -3.72754420e+01],\n",
       "        [ 9.90556976e+01, -3.72753618e+01],\n",
       "        [ 9.90554443e+01, -3.72752529e+01],\n",
       "        [ 9.78569064e+01, -3.66793517e+01],\n",
       "        [ 9.78567120e+01, -3.66792440e+01],\n",
       "        [ 9.78565279e+01, -3.66791193e+01],\n",
       "        [ 9.69543624e+01, -3.60077451e+01],\n",
       "        [ 9.69538186e+01, -3.60072759e+01],\n",
       "        [ 9.59426744e+01, -3.49995097e+01],\n",
       "        [ 9.59422551e+01, -3.49990351e+01],\n",
       "        [ 9.46082841e+01, -3.32810018e+01],\n",
       "        [ 9.46081188e+01, -3.32807947e+01],\n",
       "        [ 9.35399068e+01, -3.19778310e+01],\n",
       "        [ 9.35393621e+01, -3.19772195e+01],\n",
       "        [ 9.35387692e+01, -3.19766547e+01],\n",
       "        [ 9.27745863e+01, -3.13060624e+01],\n",
       "        [ 9.27738921e+01, -3.13055059e+01],\n",
       "        [ 9.27731512e+01, -3.13050133e+01],\n",
       "        [ 9.14955266e+01, -3.05352339e+01],\n",
       "        [ 9.14943539e+01, -3.05346289e+01],\n",
       "        [ 8.92712161e+01, -2.95678437e+01],\n",
       "        [ 8.55425997e+01, -2.79469072e+01],\n",
       "        [ 8.55423946e+01, -2.79468124e+01],\n",
       "        [ 8.21126201e+01, -2.62676741e+01],\n",
       "        [ 8.21121528e+01, -2.62674134e+01],\n",
       "        [ 8.08211724e+01, -2.54536488e+01],\n",
       "        [ 8.08209915e+01, -2.54535233e+01],\n",
       "        [ 8.08208224e+01, -2.54533824e+01],\n",
       "        [ 7.99316909e+01, -2.46431396e+01],\n",
       "        [ 7.99314991e+01, -2.46429444e+01],\n",
       "        [ 7.99313298e+01, -2.46427294e+01],\n",
       "        [ 7.94218354e+01, -2.39167076e+01],\n",
       "        [ 7.94217180e+01, -2.39165237e+01],\n",
       "        [ 7.94216345e+01, -2.39163220e+01],\n",
       "        [ 7.90553966e+01, -2.29092271e+01],\n",
       "        [ 7.90553115e+01, -2.29089405e+01],\n",
       "        [ 7.90552614e+01, -2.29086458e+01],\n",
       "        [ 7.89456572e+01, -2.19015989e+01],\n",
       "        [ 7.89456283e+01, -2.19011220e+01],\n",
       "        [ 7.89028180e+01, -1.85447136e+01],\n",
       "        [ 7.89027587e+01, -1.85437460e+01],\n",
       "        [ 7.89026060e+01, -1.85427887e+01],\n",
       "        [ 7.89023612e+01, -1.85418507e+01],\n",
       "        [ 7.89020268e+01, -1.85409407e+01],\n",
       "        [ 7.85977192e+01, -1.78225349e+01],\n",
       "        [ 7.85971760e+01, -1.78214431e+01],\n",
       "        [ 7.85965039e+01, -1.78204256e+01],\n",
       "        [ 7.81297704e+01, -1.71996891e+01],\n",
       "        [ 7.81291570e+01, -1.71989500e+01],\n",
       "        [ 7.62866708e+01, -1.51843374e+01],\n",
       "        [ 7.62865005e+01, -1.51841298e+01],\n",
       "        [ 7.62863789e+01, -1.51838904e+01],\n",
       "        [ 7.58410644e+01, -1.41767555e+01],\n",
       "        [ 7.58409848e+01, -1.41765516e+01]])]"
      ]
     },
     "execution_count": 105,
     "metadata": {},
     "output_type": "execute_result"
    }
   ],
   "source": [
    "planet.contours[0][0]"
   ]
  },
  {
   "cell_type": "code",
   "execution_count": 102,
   "metadata": {},
   "outputs": [
    {
     "data": {
      "text/plain": [
       "{}"
      ]
     },
     "execution_count": 102,
     "metadata": {},
     "output_type": "execute_result"
    }
   ],
   "source": [
    "contours = None\n",
    "with open(\"contours.pickle\", \"rb\") as handle:\n",
    "    contours = pickle.load(handle)\n",
    "contours"
   ]
  },
  {
   "cell_type": "code",
   "execution_count": 3,
   "metadata": {},
   "outputs": [],
   "source": [
    "import pickle"
   ]
  },
  {
   "cell_type": "code",
   "execution_count": 4,
   "metadata": {},
   "outputs": [],
   "source": [
    "planet = pt.Planetoid(data, 0, 1, 'Cluster', random_state=42)"
   ]
  },
  {
   "cell_type": "code",
   "execution_count": 5,
   "metadata": {},
   "outputs": [],
   "source": [
    "# cset = ax.contour(xx, yy, f, colors=\"k\", levels=topography_levels)"
   ]
  },
  {
   "cell_type": "code",
   "execution_count": 53,
   "metadata": {},
   "outputs": [],
   "source": [
    "contours = None\n",
    "with open(\"contours.pickle\", \"rb\") as handle:\n",
    "    contours = pickle.load(handle)\n",
    "\n",
    "checks = []\n",
    "for k, v in planet.contours.items():\n",
    "    for ix, vv in enumerate(v):\n",
    "        for ixx, vvv in enumerate(vv):\n",
    "            checks.append(np.all(vvv == contours[k][ix][ixx]))\n",
    "assert np.all(checks) == True"
   ]
  },
  {
   "cell_type": "code",
   "execution_count": 65,
   "metadata": {},
   "outputs": [
    {
     "name": "stdout",
     "output_type": "stream",
     "text": [
      "Testing get all contours\n",
      "True\n",
      "True\n"
     ]
    }
   ],
   "source": [
    "test_get_all_contours(planet)"
   ]
  },
  {
   "cell_type": "code",
   "execution_count": 64,
   "metadata": {},
   "outputs": [],
   "source": [
    "def test_rescale_coordinates(planet):\n",
    "    #np.save('rescaled', planet.data[['Latitude', 'Longitude']])\n",
    "    planet._rescale_coordinates()\n",
    "    return np.array_equal(planet.data[['Latitude', 'Longitude']].values, np.load('rescaled.npy'))\n",
    "    \n",
    "\n",
    "def test_get_all_contours(planet):\n",
    "    print(\"Testing get all contours\")\n",
    "    # with open('contours.pickle', 'wb') as handle:\n",
    "    #     pickle.dump(planet.contours, handle)\n",
    "\n",
    "    #planet.get_all_contours(topography_levels=20, lighting_levels=20, relief_density=3)\n",
    "\n",
    "    contours = None\n",
    "    with open(\"contours.pickle\", \"rb\") as handle:\n",
    "        contours = pickle.load(handle)\n",
    "\n",
    "    checks = []\n",
    "    for k, v in planet.contours.items():\n",
    "        for ix, vv in enumerate(v):\n",
    "            for ixx, vvv in enumerate(vv):\n",
    "                checks.append(np.all(vvv.round(6) == contours[k][ix][ixx].round(6)))\n",
    "    print(np.all(checks))\n",
    "    print(np.all(checks) == True)\n",
    "    \n",
    "def test_get_contours(planet):\n",
    "    cntrs = planet._get_contours(0,\n",
    "                         planet.data[planet.data['Cluster'] == 0],\n",
    "                         topography_levels=20, lighting_levels=20, relief_density=3)\n",
    "    contours = None\n",
    "    with open('cntrs_0.pickle', 'rb') as handle:\n",
    "        contours = pickle.load(handle)\n",
    "    if np.testing.assert_equal(cntrs, contours, verbose=True) == None:\n",
    "        return True\n",
    "    else:\n",
    "        return False\n",
    "    \n",
    "def test_get_contour_verts(planet, subset):\n",
    "    import scipy.stats as st\n",
    "    import matplotlib.pyplot as plt\n",
    "    \n",
    "    fig = plt.figure(figsize=(8, 8))\n",
    "    ax = fig.gca()\n",
    "    \n",
    "    y = subset[\"Latitude\"].values\n",
    "    x = subset[\"Longitude\"].values\n",
    "\n",
    "    # Define the borders\n",
    "    deltaX = (max(x) - min(x)) / 3\n",
    "    deltaY = (max(y) - min(y)) / 3\n",
    "    xmin = max(-180, min(x) - deltaX)\n",
    "    xmax = min(180, max(x) + deltaX)\n",
    "    ymin = max(-90, min(y) - deltaY)\n",
    "    ymax = min(90, max(y) + deltaY)\n",
    "    \n",
    "    xx, yy = np.mgrid[\n",
    "    xmin : xmax : (30 * 10 + 1j),\n",
    "    ymin : ymax : (30 * 10 + 1j),\n",
    "    ]\n",
    "    \n",
    "    positions = np.vstack([xx.ravel(), yy.ravel()])\n",
    "    values = np.vstack([x, y])\n",
    "    kernel = st.gaussian_kde(values)\n",
    "    f = np.reshape(kernel(positions).T, xx.shape)\n",
    "    cset = ax.contour(xx, yy, f, colors=\"k\", levels=20)\n",
    "    plt.close(fig)\n",
    "    verts = None\n",
    "    with open('verts_0.pickle', 'rb') as handle:\n",
    "        verts = pickle.load(handle)\n",
    "    if np.testing.assert_equal(verts, planet._get_contour_verts(cset), verbose=True) == None:\n",
    "        return True\n",
    "    else:\n",
    "        return False\n",
    "    \n",
    "def test_clean_contours(planet):\n",
    "    global f\n",
    "    verts = None\n",
    "    clean_verts = None\n",
    "    \n",
    "    with open('verts_0.pickle', 'rb') as handle:\n",
    "        verts = pickle.load(handle)\n",
    "        \n",
    "    with open('clean_verts_0.pickle', 'rb') as handle:\n",
    "        clean_verts = pickle.load(handle)\n",
    "        \n",
    "    if np.testing.assert_equal(clean_verts, planet._clean_contours(verts), verbose=True) == None:\n",
    "        return True\n",
    "    else:\n",
    "        return False\n",
    "    \n",
    "def test_calculate_hillshade(planet, subset):\n",
    "    import scipy.stats as st\n",
    "    import matplotlib.pyplot as plt\n",
    "\n",
    "    y = subset[\"Latitude\"].values\n",
    "    x = subset[\"Longitude\"].values\n",
    "\n",
    "    # Define the borders\n",
    "    deltaX = (max(x) - min(x)) / 3\n",
    "    deltaY = (max(y) - min(y)) / 3\n",
    "    xmin = max(-180, min(x) - deltaX)\n",
    "    xmax = min(180, max(x) + deltaX)\n",
    "    ymin = max(-90, min(y) - deltaY)\n",
    "    ymax = min(90, max(y) + deltaY)\n",
    "    \n",
    "    xx, yy = np.mgrid[\n",
    "    xmin : xmax : (30 * 10 + 1j),\n",
    "    ymin : ymax : (30 * 10 + 1j),\n",
    "    ]\n",
    "    \n",
    "    positions = np.vstack([xx.ravel(), yy.ravel()])\n",
    "    values = np.vstack([x, y])\n",
    "    kernel = st.gaussian_kde(values)\n",
    "    f = np.reshape(kernel(positions).T, xx.shape)\n",
    "    \n",
    "    return np.array_equal(planet._calculate_hillshade(np.rot90(f), 315, 45), np.load('hillshade.npy'))\n",
    "    "
   ]
  },
  {
   "cell_type": "code",
   "execution_count": 10,
   "metadata": {},
   "outputs": [
    {
     "data": {
      "application/vnd.jupyter.widget-view+json": {
       "model_id": "3f1614f5500f42e6afd5742b8f98d244",
       "version_major": 2,
       "version_minor": 0
      },
      "text/plain": [
       "HBox(children=(IntProgress(value=0, description='Generating data', max=3, style=ProgressStyle(description_widt…"
      ]
     },
     "metadata": {},
     "output_type": "display_data"
    },
    {
     "name": "stdout",
     "output_type": "stream",
     "text": [
      "\n"
     ]
    },
    {
     "data": {
      "text/plain": [
       "True"
      ]
     },
     "execution_count": 10,
     "metadata": {},
     "output_type": "execute_result"
    }
   ],
   "source": [
    "test_rescale_coordinates(planet)\n",
    "\n",
    "test_get_all_contours(planet)\n",
    "\n",
    "test_get_contours(planet)\n",
    "\n",
    "test_get_contour_verts(planet, planet.data[planet.data['Cluster'] == 0])\n",
    "\n",
    "test_clean_contours(planet)\n",
    "\n",
    "test_calculate_hillshade(planet, planet.data[planet.data['Cluster'] == 0])"
   ]
  },
  {
   "cell_type": "code",
   "execution_count": 8,
   "metadata": {},
   "outputs": [],
   "source": [
    "# np.save('hillshade', hs)"
   ]
  },
  {
   "cell_type": "code",
   "execution_count": 91,
   "metadata": {},
   "outputs": [],
   "source": [
    "with open('contours.pickle', 'wb') as handle:\n",
    "    pickle.dump(planet.contours, handle)"
   ]
  }
 ],
 "metadata": {
  "kernelspec": {
   "display_name": "Python 3",
   "language": "python",
   "name": "python3"
  },
  "language_info": {
   "codemirror_mode": {
    "name": "ipython",
    "version": 3
   },
   "file_extension": ".py",
   "mimetype": "text/x-python",
   "name": "python",
   "nbconvert_exporter": "python",
   "pygments_lexer": "ipython3",
   "version": "3.7.3"
  },
  "widgets": {
   "application/vnd.jupyter.widget-state+json": {
    "state": {
     "0200b0c5f5714b37ab68557887013c5f": {
      "model_module": "@jupyter-widgets/controls",
      "model_module_version": "1.5.0",
      "model_name": "ProgressStyleModel",
      "state": {
       "description_width": "initial"
      }
     },
     "1432a751b15643f18859607eae3eccd3": {
      "model_module": "@jupyter-widgets/base",
      "model_module_version": "1.2.0",
      "model_name": "LayoutModel",
      "state": {}
     },
     "1ae93b96edc04e21bc7ac9c15ba597c0": {
      "model_module": "@jupyter-widgets/base",
      "model_module_version": "1.2.0",
      "model_name": "LayoutModel",
      "state": {}
     },
     "1dda1cd61a3f4dd1980de3092424b848": {
      "model_module": "@jupyter-widgets/base",
      "model_module_version": "1.2.0",
      "model_name": "LayoutModel",
      "state": {}
     },
     "23fabd463c82482fabc539d68f272ba1": {
      "model_module": "@jupyter-widgets/controls",
      "model_module_version": "1.5.0",
      "model_name": "IntProgressModel",
      "state": {
       "bar_style": "success",
       "description": "Generating data",
       "layout": "IPY_MODEL_be0d62a7eb464dd8b26baf36cc031866",
       "max": 3,
       "style": "IPY_MODEL_946683144cb84dcbb28d25fec15783ad",
       "value": 3
      }
     },
     "26ca6e025d154e8e92a86d880cc991f5": {
      "model_module": "@jupyter-widgets/base",
      "model_module_version": "1.2.0",
      "model_name": "LayoutModel",
      "state": {}
     },
     "2f4fd36b2e9b4817a2fcb52e670d64f1": {
      "model_module": "@jupyter-widgets/controls",
      "model_module_version": "1.5.0",
      "model_name": "DescriptionStyleModel",
      "state": {
       "description_width": ""
      }
     },
     "38640675a62e42aeb2b8bda1a20b9946": {
      "model_module": "@jupyter-widgets/base",
      "model_module_version": "1.2.0",
      "model_name": "LayoutModel",
      "state": {}
     },
     "3f1614f5500f42e6afd5742b8f98d244": {
      "model_module": "@jupyter-widgets/controls",
      "model_module_version": "1.5.0",
      "model_name": "HBoxModel",
      "state": {
       "children": [
        "IPY_MODEL_bde66e6c4bf343eaa56a015390cf436a",
        "IPY_MODEL_948505d5883c42bf9e8bce4780faf56a"
       ],
       "layout": "IPY_MODEL_f6ef3f7f00a5414e84ecc4e49f206382"
      }
     },
     "4d949666ec7c45a1bbffc1a7f5af0331": {
      "model_module": "@jupyter-widgets/controls",
      "model_module_version": "1.5.0",
      "model_name": "HTMLModel",
      "state": {
       "layout": "IPY_MODEL_64b9338807604a5c8b7070c87f81ab82",
       "style": "IPY_MODEL_fe39b37b81e5499dac26fc7a1f861a5a",
       "value": "100% 3/3 [00:30&lt;00:00, 10.21s/it]"
      }
     },
     "55c5618641694fb281758a02dd9c5ac3": {
      "model_module": "@jupyter-widgets/controls",
      "model_module_version": "1.5.0",
      "model_name": "HBoxModel",
      "state": {
       "children": [
        "IPY_MODEL_dedf908f49454b4185cfd8951e0d0aa8",
        "IPY_MODEL_8a505a6cad8c4ff287fb001270c65b7d"
       ],
       "layout": "IPY_MODEL_cc983c49aa084a30803a8abc17e6bac7"
      }
     },
     "64b9338807604a5c8b7070c87f81ab82": {
      "model_module": "@jupyter-widgets/base",
      "model_module_version": "1.2.0",
      "model_name": "LayoutModel",
      "state": {}
     },
     "6a3fb4a269cf42c48955f3d2f8ff8afe": {
      "model_module": "@jupyter-widgets/controls",
      "model_module_version": "1.5.0",
      "model_name": "DescriptionStyleModel",
      "state": {
       "description_width": ""
      }
     },
     "6e508d3638554b6584274b165869d3a0": {
      "model_module": "@jupyter-widgets/base",
      "model_module_version": "1.2.0",
      "model_name": "LayoutModel",
      "state": {}
     },
     "7413005fe6414537a8e1d7bf2992f9a9": {
      "model_module": "@jupyter-widgets/controls",
      "model_module_version": "1.5.0",
      "model_name": "ProgressStyleModel",
      "state": {
       "description_width": "initial"
      }
     },
     "86116115e7b7445f97850ab1c8c95ed2": {
      "model_module": "@jupyter-widgets/controls",
      "model_module_version": "1.5.0",
      "model_name": "DescriptionStyleModel",
      "state": {
       "description_width": ""
      }
     },
     "8a505a6cad8c4ff287fb001270c65b7d": {
      "model_module": "@jupyter-widgets/controls",
      "model_module_version": "1.5.0",
      "model_name": "HTMLModel",
      "state": {
       "layout": "IPY_MODEL_c47884f4dc6f4bd68ea67481545c6a08",
       "style": "IPY_MODEL_2f4fd36b2e9b4817a2fcb52e670d64f1",
       "value": "100% 3/3 [00:30&lt;00:00, 10.26s/it]"
      }
     },
     "946683144cb84dcbb28d25fec15783ad": {
      "model_module": "@jupyter-widgets/controls",
      "model_module_version": "1.5.0",
      "model_name": "ProgressStyleModel",
      "state": {
       "description_width": "initial"
      }
     },
     "948505d5883c42bf9e8bce4780faf56a": {
      "model_module": "@jupyter-widgets/controls",
      "model_module_version": "1.5.0",
      "model_name": "HTMLModel",
      "state": {
       "layout": "IPY_MODEL_bd53c66de3cd47ac9415137faf7b4dbd",
       "style": "IPY_MODEL_6a3fb4a269cf42c48955f3d2f8ff8afe",
       "value": "100% 3/3 [00:32&lt;00:00, 10.95s/it]"
      }
     },
     "94da4500afed483c8c2ba7b8ad900eb5": {
      "model_module": "@jupyter-widgets/controls",
      "model_module_version": "1.5.0",
      "model_name": "ProgressStyleModel",
      "state": {
       "description_width": "initial"
      }
     },
     "bb475113472a49caa5e40926a3f488b3": {
      "model_module": "@jupyter-widgets/controls",
      "model_module_version": "1.5.0",
      "model_name": "HBoxModel",
      "state": {
       "children": [
        "IPY_MODEL_23fabd463c82482fabc539d68f272ba1",
        "IPY_MODEL_4d949666ec7c45a1bbffc1a7f5af0331"
       ],
       "layout": "IPY_MODEL_1dda1cd61a3f4dd1980de3092424b848"
      }
     },
     "bd53c66de3cd47ac9415137faf7b4dbd": {
      "model_module": "@jupyter-widgets/base",
      "model_module_version": "1.2.0",
      "model_name": "LayoutModel",
      "state": {}
     },
     "bde66e6c4bf343eaa56a015390cf436a": {
      "model_module": "@jupyter-widgets/controls",
      "model_module_version": "1.5.0",
      "model_name": "IntProgressModel",
      "state": {
       "bar_style": "success",
       "description": "Generating data",
       "layout": "IPY_MODEL_38640675a62e42aeb2b8bda1a20b9946",
       "max": 3,
       "style": "IPY_MODEL_7413005fe6414537a8e1d7bf2992f9a9",
       "value": 3
      }
     },
     "be0d62a7eb464dd8b26baf36cc031866": {
      "model_module": "@jupyter-widgets/base",
      "model_module_version": "1.2.0",
      "model_name": "LayoutModel",
      "state": {}
     },
     "c47884f4dc6f4bd68ea67481545c6a08": {
      "model_module": "@jupyter-widgets/base",
      "model_module_version": "1.2.0",
      "model_name": "LayoutModel",
      "state": {}
     },
     "cc983c49aa084a30803a8abc17e6bac7": {
      "model_module": "@jupyter-widgets/base",
      "model_module_version": "1.2.0",
      "model_name": "LayoutModel",
      "state": {}
     },
     "d61dafa394f24faca76b47f844a05085": {
      "model_module": "@jupyter-widgets/controls",
      "model_module_version": "1.5.0",
      "model_name": "IntProgressModel",
      "state": {
       "bar_style": "success",
       "description": "Generating data",
       "layout": "IPY_MODEL_1ae93b96edc04e21bc7ac9c15ba597c0",
       "max": 3,
       "style": "IPY_MODEL_94da4500afed483c8c2ba7b8ad900eb5",
       "value": 3
      }
     },
     "dedf908f49454b4185cfd8951e0d0aa8": {
      "model_module": "@jupyter-widgets/controls",
      "model_module_version": "1.5.0",
      "model_name": "IntProgressModel",
      "state": {
       "bar_style": "success",
       "description": "Generating data",
       "layout": "IPY_MODEL_6e508d3638554b6584274b165869d3a0",
       "max": 3,
       "style": "IPY_MODEL_0200b0c5f5714b37ab68557887013c5f",
       "value": 3
      }
     },
     "eba41f02d3db4f60b6c69894acc13099": {
      "model_module": "@jupyter-widgets/controls",
      "model_module_version": "1.5.0",
      "model_name": "HTMLModel",
      "state": {
       "layout": "IPY_MODEL_26ca6e025d154e8e92a86d880cc991f5",
       "style": "IPY_MODEL_86116115e7b7445f97850ab1c8c95ed2",
       "value": "100% 3/3 [00:27&lt;00:00,  9.19s/it]"
      }
     },
     "f646b5758bf34e138a45efe2e697547e": {
      "model_module": "@jupyter-widgets/controls",
      "model_module_version": "1.5.0",
      "model_name": "HBoxModel",
      "state": {
       "children": [
        "IPY_MODEL_d61dafa394f24faca76b47f844a05085",
        "IPY_MODEL_eba41f02d3db4f60b6c69894acc13099"
       ],
       "layout": "IPY_MODEL_1432a751b15643f18859607eae3eccd3"
      }
     },
     "f6ef3f7f00a5414e84ecc4e49f206382": {
      "model_module": "@jupyter-widgets/base",
      "model_module_version": "1.2.0",
      "model_name": "LayoutModel",
      "state": {}
     },
     "fe39b37b81e5499dac26fc7a1f861a5a": {
      "model_module": "@jupyter-widgets/controls",
      "model_module_version": "1.5.0",
      "model_name": "DescriptionStyleModel",
      "state": {
       "description_width": ""
      }
     }
    },
    "version_major": 2,
    "version_minor": 0
   }
  }
 },
 "nbformat": 4,
 "nbformat_minor": 4
}
